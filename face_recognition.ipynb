{
 "cells": [
  {
   "cell_type": "code",
   "execution_count": 11,
   "metadata": {},
   "outputs": [],
   "source": [
    "import cv2\n",
    "import numpy as np"
   ]
  },
  {
   "cell_type": "code",
   "execution_count": 21,
   "metadata": {},
   "outputs": [],
   "source": [
    "recognizer = cv2.face.LBPHFaceRecognizer_create()\n",
    "recognizer.read('recognizer/trainingData.yml')\n",
    "faceCascade = cv2.CascadeClassifier(\"dataset/haarcascade_frontalface_default.xml\")\n",
    "Id=0\n",
    "cam = cv2.VideoCapture(0)\n",
    "while True:\n",
    "    ret, img =cam.read()\n",
    "    gray=cv2.cvtColor(img,cv2.COLOR_BGR2GRAY)\n",
    "    faces=faceCascade.detectMultiScale(gray, 1.2,5)\n",
    "    for(x,y,w,h) in faces:\n",
    "        cv2.rectangle(img,(x,y),(x+w,y+h),(225,0,0),2)\n",
    "        id=recognizer.predict(gray[y:y+h,x:x+w])\n",
    "        if(id==4):\n",
    "                Id=\"Himanshu\"\n",
    "        elif(id==3):\n",
    "                Id=\"Aalu\"\n",
    "        else:\n",
    "            Id=\"Unknown\"\n",
    "        cv2.rectangle(img, (x-22,y-90), (x+w+22, y-22), (0,255,0), -1)\n",
    "        cv2.putText(img, str(Id), (x,y-40), cv2.FONT_HERSHEY_COMPLEX, 2, (255,255,255), 3)\n",
    "        cv2.imshow('Image',img) \n",
    "    if(cv2.waitKey(10)==ord('q')):\n",
    "        break\n",
    "cam.release()\n",
    "cv2.destroyAllWindows()"
   ]
  },
  {
   "cell_type": "code",
   "execution_count": null,
   "metadata": {},
   "outputs": [],
   "source": []
  }
 ],
 "metadata": {
  "kernelspec": {
   "display_name": "Python 3",
   "language": "python",
   "name": "python3"
  },
  "language_info": {
   "codemirror_mode": {
    "name": "ipython",
    "version": 3
   },
   "file_extension": ".py",
   "mimetype": "text/x-python",
   "name": "python",
   "nbconvert_exporter": "python",
   "pygments_lexer": "ipython3",
   "version": "3.6.8"
  }
 },
 "nbformat": 4,
 "nbformat_minor": 2
}
